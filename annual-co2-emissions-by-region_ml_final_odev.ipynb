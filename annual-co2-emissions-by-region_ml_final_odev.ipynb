{
 "cells": [
  {
   "cell_type": "markdown",
   "id": "2f339872-ad57-45a4-8f7d-d3ddd82addbd",
   "metadata": {},
   "source": [
    "## Bireysel Proje 18 / Zeynep Danış (17.07.2025)\n",
    "### Dünya Bölgelerine Göre Yıllık CO₂ Emisyonları / Our World in Data\n",
    "#### Veri Linki: https://ourworldindata.org/grapher/annual-co-emissions-by-region?time=earliest..2023"
   ]
  },
  {
   "cell_type": "code",
   "execution_count": null,
   "id": "c8075e13-311e-4501-b5be-e9f940f3c1f2",
   "metadata": {},
   "outputs": [],
   "source": [
    "import pandas as pd\n",
    "import numpy as np\n",
    "import matplotlib.pyplot as plt\n",
    "import seaborn as sns\n",
    "import plotly.express as px"
   ]
  },
  {
   "cell_type": "markdown",
   "id": "3436378e-f47f-4412-a15e-4486155eee95",
   "metadata": {},
   "source": [
    "### Veri Aktarımı ve Veri Analizi"
   ]
  },
  {
   "cell_type": "code",
   "execution_count": null,
   "id": "94f3206b-05c5-4b2f-8035-28f9b3d93742",
   "metadata": {},
   "outputs": [],
   "source": [
    "df = pd.read_csv(\"annual-co-emissions-by-region.csv\")\n",
    "df"
   ]
  },
  {
   "cell_type": "code",
   "execution_count": null,
   "id": "27ca000a-67b8-4819-8d84-b8577950e3ee",
   "metadata": {},
   "outputs": [],
   "source": [
    "df = pd.read_csv(\"annual-co-emissions-by-region.csv\")\n",
    "df.columns = ['region', 'code', 'year', 'co2']\n",
    "df = df.drop(columns=['code'])"
   ]
  },
  {
   "cell_type": "code",
   "execution_count": null,
   "id": "512e7342-cb68-46c3-90c4-07a7c4bb7a3f",
   "metadata": {},
   "outputs": [],
   "source": [
    "df.columns"
   ]
  },
  {
   "cell_type": "code",
   "execution_count": null,
   "id": "4392db75-27df-4708-8663-2cef328ffec3",
   "metadata": {},
   "outputs": [],
   "source": [
    "df"
   ]
  },
  {
   "cell_type": "code",
   "execution_count": null,
   "id": "fdb7d381-eb1f-4bcf-a499-e1a75815aeba",
   "metadata": {},
   "outputs": [],
   "source": [
    "df.head()"
   ]
  },
  {
   "cell_type": "code",
   "execution_count": null,
   "id": "09c871cc-1f29-420c-bf52-db1e54449889",
   "metadata": {},
   "outputs": [],
   "source": [
    "df.tail()"
   ]
  },
  {
   "cell_type": "code",
   "execution_count": null,
   "id": "c7545898-e1c3-4616-a504-aa5c7eeb7f02",
   "metadata": {},
   "outputs": [],
   "source": [
    "df.info()"
   ]
  },
  {
   "cell_type": "code",
   "execution_count": null,
   "id": "46912b82-b6d8-46c4-916e-b37606079ce0",
   "metadata": {},
   "outputs": [],
   "source": [
    "df.describe()"
   ]
  },
  {
   "cell_type": "code",
   "execution_count": null,
   "id": "3a9e8aac-bb58-4db4-b543-8cf12ec2d74d",
   "metadata": {},
   "outputs": [],
   "source": [
    "df.isnull().sum()"
   ]
  },
  {
   "cell_type": "code",
   "execution_count": null,
   "id": "c3c4e51f-7c2d-4753-8658-9335888676ff",
   "metadata": {},
   "outputs": [],
   "source": [
    "df[\"region\"].unique()"
   ]
  },
  {
   "cell_type": "code",
   "execution_count": null,
   "id": "479e7fe9-245e-4c52-a7fa-7f235111749b",
   "metadata": {},
   "outputs": [],
   "source": [
    "df[\"year\"].unique()"
   ]
  },
  {
   "cell_type": "code",
   "execution_count": null,
   "id": "85733776-899e-4a2d-9250-bf9eb05292b4",
   "metadata": {
    "scrolled": true
   },
   "outputs": [],
   "source": [
    "sorted(df[\"year\"].unique())"
   ]
  },
  {
   "cell_type": "code",
   "execution_count": null,
   "id": "478bd7a1-7728-4430-80aa-311e873980b7",
   "metadata": {},
   "outputs": [],
   "source": [
    "df[\"region\"].value_counts()"
   ]
  },
  {
   "cell_type": "code",
   "execution_count": null,
   "id": "27a0e6a5-c519-47f3-966e-311b3f360a5a",
   "metadata": {},
   "outputs": [],
   "source": [
    "df[\"year\"].value_counts()"
   ]
  },
  {
   "cell_type": "code",
   "execution_count": null,
   "id": "9333e026-cd15-4fab-b85f-b40c455d20c7",
   "metadata": {},
   "outputs": [],
   "source": [
    "df.sort_values(by = \"co2\", ascending = False).reset_index()"
   ]
  },
  {
   "cell_type": "code",
   "execution_count": null,
   "id": "6d03434a-769e-4abf-bb29-86211bd6b49d",
   "metadata": {},
   "outputs": [],
   "source": [
    "df.sort_values(by = \"co2\", ascending = True).reset_index()"
   ]
  },
  {
   "cell_type": "code",
   "execution_count": null,
   "id": "4c59829d-5cab-4481-b0f0-cf7a711bedd4",
   "metadata": {},
   "outputs": [],
   "source": [
    "df.groupby(\"region\")[[\"co2\"]].mean().reset_index()"
   ]
  },
  {
   "cell_type": "code",
   "execution_count": null,
   "id": "b5aa0f26-fc36-466b-bcda-2631f13104bf",
   "metadata": {},
   "outputs": [],
   "source": [
    "df.groupby(\"year\")[[\"co2\"]].mean().reset_index()"
   ]
  },
  {
   "cell_type": "markdown",
   "id": "0790dd0e-3341-42ec-858b-445718e0dfcc",
   "metadata": {},
   "source": [
    "### Grafikler"
   ]
  },
  {
   "cell_type": "code",
   "execution_count": null,
   "id": "2fa15aac-dc63-431f-9245-1802c16c177a",
   "metadata": {},
   "outputs": [],
   "source": [
    "plt.figure(figsize=(40, 10))\n",
    "\n",
    "sns.lineplot(data = df, x = \"region\", y = \"co2\")\n",
    "\n",
    "plt.title(\"Bölgelere Göre CO₂ Emisyonları\", fontsize = 30)\n",
    "plt.xlabel(\"Bölge\", fontsize = 20)\n",
    "plt.ylabel(\"CO₂ Oranı (ton)\", fontsize = 20)\n",
    "plt.xticks(rotation=90)\n",
    "plt.tight_layout()\n",
    "plt.savefig(\"bolgeler_co2_cizgi.png\", dpi=300)\n",
    "plt.show()"
   ]
  },
  {
   "cell_type": "code",
   "execution_count": null,
   "id": "74e1df5a-f6b9-4f1e-8f81-063f5f688a10",
   "metadata": {},
   "outputs": [],
   "source": [
    "plt.figure(figsize=(16, 6))\n",
    "\n",
    "sns.lineplot(data = df, x = \"year\", y = \"co2\")\n",
    "\n",
    "plt.title(\"Dünya Genelinde Yıllara Göre CO₂ Emisyonu\")\n",
    "plt.xlabel(\"Yıl\")\n",
    "plt.ylabel(\"CO₂ Oranı (ton)\")\n",
    "plt.xticks(rotation=90)\n",
    "plt.tight_layout()\n",
    "plt.savefig(\"dunya_co2_cizgi.png\", dpi=300)\n",
    "plt.show()"
   ]
  },
  {
   "cell_type": "code",
   "execution_count": null,
   "id": "3fde2ccc-4f9b-41db-911e-9506bff6adf3",
   "metadata": {},
   "outputs": [],
   "source": [
    "df[df[\"region\"] == \"Turkey\"]"
   ]
  },
  {
   "cell_type": "code",
   "execution_count": null,
   "id": "4d1c6d8a-b11d-4050-a5cd-956d142079ee",
   "metadata": {},
   "outputs": [],
   "source": [
    "plt.figure(figsize=(16, 6))\n",
    "sns.lineplot(x = \"year\", y = \"co2\", data = df[df[\"region\"] == \"Turkey\"])\n",
    "plt.xticks(rotation=90);\n",
    "plt.title(\"Türkiye'de Yıllara Göre CO₂ Emisyonları\")\n",
    "plt.xlabel(\"Yıl\")\n",
    "plt.ylabel(\"CO₂ Oranı (ton)\")\n",
    "plt.savefig(\"turkiye_co2_cizgi.png\", dpi=300)\n",
    "plt.show()"
   ]
  },
  {
   "cell_type": "code",
   "execution_count": null,
   "id": "b92d51de-f512-4e21-bc93-9a4e5b5847ec",
   "metadata": {},
   "outputs": [],
   "source": [
    "plt.figure(figsize=(10, 5))\n",
    "sns.lineplot(data=df[df[\"region\"] == \"Africa\"], x=\"year\", y=\"co2\", color=\"darkgoldenrod\")\n",
    "plt.title(\"Afrika Bölgesinin CO₂ Emisyon Trendleri\")\n",
    "plt.xlabel(\"Yıl\")\n",
    "plt.ylabel(\"CO₂ Emisyonu (ton)\")\n",
    "plt.grid(True)\n",
    "plt.savefig(\"afrika_co2_cizgi.png\", dpi=300)\n",
    "plt.show()"
   ]
  },
  {
   "cell_type": "code",
   "execution_count": null,
   "id": "12be0af2-763d-4bb7-b40a-bed101e5771c",
   "metadata": {},
   "outputs": [],
   "source": [
    "plt.figure(figsize=(10, 5))\n",
    "sns.lineplot(data=df[df[\"region\"] == \"Asia\"], x=\"year\", y=\"co2\", color=\"g\")\n",
    "plt.title(\"Asya Bölgesinin CO₂ Emisyon Trendleri\")\n",
    "plt.xlabel(\"Yıl\")\n",
    "plt.ylabel(\"CO₂ Emisyonu (ton)\")\n",
    "plt.grid(True)\n",
    "plt.savefig(\"asya_co2_cizgi.png\", dpi=300)\n",
    "plt.show()"
   ]
  },
  {
   "cell_type": "code",
   "execution_count": null,
   "id": "a5d0c462-c90e-440c-b2be-0148ca45f810",
   "metadata": {},
   "outputs": [],
   "source": [
    "plt.figure(figsize=(10, 5))\n",
    "sns.lineplot(data=df[df[\"region\"] == \"Europe\"], x=\"year\", y=\"co2\", color=\"purple\")\n",
    "plt.title(\"Avrupa Bölgesinin CO₂ Emisyon Trendleri\")\n",
    "plt.xlabel(\"Yıl\")\n",
    "plt.ylabel(\"CO₂ Emisyonu (ton)\")\n",
    "plt.grid(True)\n",
    "plt.savefig(\"avrupa_co2_cizgi.png\", dpi=300)\n",
    "plt.show()"
   ]
  },
  {
   "cell_type": "code",
   "execution_count": null,
   "id": "daad6dd6-798e-419c-91bc-404e63ec7382",
   "metadata": {},
   "outputs": [],
   "source": [
    "plt.figure(figsize=(10, 5))\n",
    "sns.lineplot(data=df[df[\"region\"] == \"North America\"], x=\"year\", y=\"co2\", color=\"navy\")\n",
    "plt.title(\"Kuzey Amerika Bölgesinin CO₂ Emisyon Trendleri\")\n",
    "plt.xlabel(\"Yıl\")\n",
    "plt.ylabel(\"CO₂ Emisyonu (ton)\")\n",
    "plt.grid(True)\n",
    "plt.savefig(\"k_amerika_co2_cizgi.png\", dpi=300)\n",
    "plt.show()"
   ]
  },
  {
   "cell_type": "code",
   "execution_count": null,
   "id": "4f2daf0e-e5c7-4339-9251-e702a569ab1f",
   "metadata": {},
   "outputs": [],
   "source": [
    "plt.figure(figsize=(10, 5))\n",
    "sns.lineplot(data=df[df[\"region\"] == \"South America\"], x=\"year\", y=\"co2\", color=\"sandybrown\")\n",
    "plt.title(\"Güney Amerika Bölgesinin CO₂ Emisyon Trendleri\")\n",
    "plt.xlabel(\"Yıl\")\n",
    "plt.ylabel(\"CO₂ Emisyonu (ton)\")\n",
    "plt.grid(True)\n",
    "plt.savefig(\"g_amerika_co2_cizgi.png\", dpi=300)\n",
    "plt.show()"
   ]
  },
  {
   "cell_type": "code",
   "execution_count": null,
   "id": "6b4abed6-a06a-4b02-9fc9-7c8c815fd9bb",
   "metadata": {},
   "outputs": [],
   "source": [
    "plt.figure(figsize=(10, 5))\n",
    "sns.lineplot(data=df[df[\"region\"] == \"Oceania\"], x=\"year\", y=\"co2\", color=\"turquoise\")\n",
    "plt.title(\"Okyanusya Bölgesinin CO₂ Emisyon Trendleri\")\n",
    "plt.xlabel(\"Yıl\")\n",
    "plt.ylabel(\"CO₂ Emisyonu (ton)\")\n",
    "plt.grid(True)\n",
    "plt.savefig(\"okyanusya_co2_cizgi.png\", dpi=300)\n",
    "plt.show()"
   ]
  },
  {
   "cell_type": "code",
   "execution_count": null,
   "id": "fbb5a41c-cda1-4d51-bdbe-c8a88f7f2f04",
   "metadata": {},
   "outputs": [],
   "source": [
    "kitalar = ['Africa', 'Asia', 'Europe', 'North America', 'South America', 'Oceania']\n",
    "\n",
    "kita_df = df[df[\"region\"].isin(kitalar)]\n",
    "\n",
    "plt.figure(figsize=(12, 6))\n",
    "sns.lineplot(data=kita_df, x=\"year\", y=\"co2\", hue=\"region\", palette=\"tab10\")\n",
    "plt.title(\"Kıtaların Yıllara Göre CO₂ Emisyonları\")\n",
    "plt.xlabel(\"Yıl\")\n",
    "plt.ylabel(\"CO₂ Emisyonu (ton)\")\n",
    "plt.legend(title=\"Kıta\")\n",
    "plt.grid(True)\n",
    "plt.tight_layout()\n",
    "plt.savefig(\"kitalar_co2_cizgi.png\", dpi=300)\n",
    "plt.show()"
   ]
  },
  {
   "cell_type": "code",
   "execution_count": null,
   "id": "769c35cb-679c-429b-babc-cfb9d056d8a4",
   "metadata": {},
   "outputs": [],
   "source": [
    "tavan_bolgeler = df[df[\"year\"] == 2020].sort_values(by=\"co2\", ascending=False)[\"region\"].head(5).tolist()\n",
    "\n",
    "plt.figure(figsize=(12, 6))\n",
    "sns.lineplot(data=df[df[\"region\"].isin(tavan_bolgeler)], x=\"year\", y=\"co2\", hue=\"region\")\n",
    "plt.title(\"En Yüksek Değere Sahip 5 Bölgenin Yıllık CO₂ Emisyonu\")\n",
    "plt.xlabel(\"Yıl\")\n",
    "plt.ylabel(\"CO₂ Emisyonu (ton)\")\n",
    "plt.grid(True)\n",
    "plt.tight_layout()\n",
    "plt.savefig(\"tavan_5_co2_cizgi.png\", dpi=300)\n",
    "plt.show()"
   ]
  },
  {
   "cell_type": "code",
   "execution_count": null,
   "id": "72c4534a-5b25-4424-af51-946aa0862045",
   "metadata": {},
   "outputs": [],
   "source": [
    "son_yillar = df[\"year\"].max()\n",
    "son_yillar_df = df[df[\"year\"] == son_yillar].sort_values(by=\"co2\", ascending=False).head(10)\n",
    "\n",
    "plt.figure(figsize=(12, 6))\n",
    "sns.barplot(data=son_yillar_df, x=\"region\", y=\"co2\", hue=\"region\", palette=\"viridis\")\n",
    "plt.title(f\"{son_yillar} Yılında En Yüksek Değerlere Sahip 10 Bölgenin CO₂ Emisyonu\")\n",
    "plt.ylabel(\"CO₂ Emisyonu (ton)\")\n",
    "plt.xlabel(\"Bölge\")\n",
    "plt.xticks(rotation=45)\n",
    "plt.tight_layout()\n",
    "plt.savefig(\"2023_tavan_10_co2_cizgi.png\", dpi=300)\n",
    "plt.show()"
   ]
  },
  {
   "cell_type": "markdown",
   "id": "a6834e28-0392-4154-9625-9e428e519c41",
   "metadata": {},
   "source": [
    "### Makine Öğrenmesi\n",
    "#### Yıllara Göre CO₂ Salınımı Tahmini"
   ]
  },
  {
   "cell_type": "markdown",
   "id": "25e10ce0-5306-408b-981c-4e88ab6c69e2",
   "metadata": {},
   "source": [
    "#### Kıta Bazlı CO₂ Emisyon Tahmin Modellemesi"
   ]
  },
  {
   "cell_type": "code",
   "execution_count": null,
   "id": "132ca7ec-a395-4dc1-93d1-0fe7502f5932",
   "metadata": {},
   "outputs": [],
   "source": [
    "from sklearn.linear_model import LinearRegression\n",
    "\n",
    "afrika = df[df[\"region\"] == \"Africa\"].copy()\n",
    "\n",
    "afrika = afrika.dropna()\n",
    "\n",
    "X = afrika[[\"year\"]] \n",
    "y = afrika[\"co2\"] \n",
    "\n",
    "model = LinearRegression()\n",
    "model.fit(X, y)\n",
    "\n",
    "gelecek_yillar = pd.DataFrame({\"year\": np.arange(2024, 2031)})\n",
    "gelecek_tahmini = model.predict(gelecek_yillar)\n",
    "\n",
    "gelecek_yillar[\"predicted_co2\"] = gelecek_tahmini\n",
    "print(gelecek_yillar)"
   ]
  },
  {
   "cell_type": "code",
   "execution_count": null,
   "id": "dc03af7b-6363-4026-ba5e-694ad1cb2ac7",
   "metadata": {},
   "outputs": [],
   "source": [
    "plt.figure(figsize=(10, 5))\n",
    "plt.plot(X, y, label=\"Gerçek\", color=\"goldenrod\")\n",
    "plt.plot(gelecek_yillar[\"year\"], gelecek_yillar[\"predicted_co2\"], label=\"Tahmin\", color=\"darkviolet\", linestyle=\"--\")\n",
    "plt.title(\"Afrika için CO₂ Emisyon Tahmini (2024–2030)\")\n",
    "plt.xlabel(\"Yıl\")\n",
    "plt.ylabel(\"CO₂ Emisyonu (ton)\")\n",
    "plt.legend()\n",
    "plt.grid(True)\n",
    "plt.tight_layout()\n",
    "plt.savefig(\"afrika_tahmin_co2_cizgi.png\", dpi=300)\n",
    "plt.show()"
   ]
  },
  {
   "cell_type": "code",
   "execution_count": null,
   "id": "85e47f13-6a43-41d4-9b6b-0249196a8acb",
   "metadata": {},
   "outputs": [],
   "source": [
    "from sklearn.linear_model import LinearRegression\n",
    "\n",
    "asya = df[df[\"region\"] == \"Asia\"].copy()\n",
    "\n",
    "asya = asya.dropna()\n",
    "\n",
    "X = asya[[\"year\"]] \n",
    "y = asya[\"co2\"] \n",
    "\n",
    "model = LinearRegression()\n",
    "model.fit(X, y)\n",
    "\n",
    "gelecek_yillar = pd.DataFrame({\"year\": np.arange(2024, 2031)})\n",
    "gelecek_tahmini = model.predict(gelecek_yillar)\n",
    "\n",
    "gelecek_yillar[\"predicted_co2\"] = gelecek_tahmini\n",
    "print(gelecek_yillar)"
   ]
  },
  {
   "cell_type": "code",
   "execution_count": null,
   "id": "a258a01f-4d63-4238-9d88-018a116e5220",
   "metadata": {},
   "outputs": [],
   "source": [
    "plt.figure(figsize=(10, 5))\n",
    "plt.plot(X, y, label=\"Gerçek\", color=\"tomato\")\n",
    "plt.plot(gelecek_yillar[\"year\"], gelecek_yillar[\"predicted_co2\"], label=\"Tahmin\", color=\"darkgreen\", linestyle=\"--\")\n",
    "plt.title(\"Asya için CO₂ Emisyon Tahmini (2024–2030)\")\n",
    "plt.xlabel(\"Yıl\")\n",
    "plt.ylabel(\"CO₂ Emisyonu (ton)\")\n",
    "plt.legend()\n",
    "plt.grid(True)\n",
    "plt.tight_layout()\n",
    "plt.savefig(\"asya_tahmin_co2_cizgi.png\", dpi=300)\n",
    "plt.show()"
   ]
  },
  {
   "cell_type": "code",
   "execution_count": null,
   "id": "d208ce9e-6cd4-4956-86a2-219a1f0c233f",
   "metadata": {},
   "outputs": [],
   "source": [
    "from sklearn.linear_model import LinearRegression\n",
    "\n",
    "avrupa = df[df[\"region\"] == \"Europe\"].copy()\n",
    "\n",
    "avrupa = avrupa.dropna()\n",
    "\n",
    "X = avrupa[[\"year\"]] \n",
    "y = avrupa[\"co2\"] \n",
    "\n",
    "model = LinearRegression()\n",
    "model.fit(X, y)\n",
    "\n",
    "gelecek_yillar = pd.DataFrame({\"year\": np.arange(2024, 2031)})\n",
    "gelecek_tahmini = model.predict(gelecek_yillar)\n",
    "\n",
    "gelecek_yillar[\"predicted_co2\"] = gelecek_tahmini\n",
    "print(gelecek_yillar)"
   ]
  },
  {
   "cell_type": "code",
   "execution_count": null,
   "id": "f5e76a9e-9913-4a33-bc36-0f4e761832f5",
   "metadata": {},
   "outputs": [],
   "source": [
    "plt.figure(figsize=(10, 5))\n",
    "plt.plot(X, y, label=\"Gerçek\", color=\"blueviolet\")\n",
    "plt.plot(gelecek_yillar[\"year\"], gelecek_yillar[\"predicted_co2\"], label=\"Tahmin\", color=\"limegreen\", linestyle=\"--\")\n",
    "plt.title(\"Avrupa için CO₂ Emisyon Tahmini (2024–2030)\")\n",
    "plt.xlabel(\"Yıl\")\n",
    "plt.ylabel(\"CO₂ Emisyonu (ton)\")\n",
    "plt.legend()\n",
    "plt.grid(True)\n",
    "plt.tight_layout()\n",
    "plt.savefig(\"avrupa_tahmin_co2_cizgi.png\", dpi=300)\n",
    "plt.show()"
   ]
  },
  {
   "cell_type": "code",
   "execution_count": null,
   "id": "883967ca-8eb3-4de8-8202-fc5d70c76daf",
   "metadata": {},
   "outputs": [],
   "source": [
    "from sklearn.linear_model import LinearRegression\n",
    "\n",
    "kuzey_amerika = df[df[\"region\"] == \"North America\"].copy()\n",
    "\n",
    "kuzey_amerika = kuzey_amerika.dropna()\n",
    "\n",
    "X = kuzey_amerika[[\"year\"]] \n",
    "y = kuzey_amerika[\"co2\"] \n",
    "\n",
    "model = LinearRegression()\n",
    "model.fit(X, y)\n",
    "\n",
    "gelecek_yillar = pd.DataFrame({\"year\": np.arange(2024, 2031)})\n",
    "gelecek_tahmini = model.predict(gelecek_yillar)\n",
    "\n",
    "gelecek_yillar[\"predicted_co2\"] = gelecek_tahmini\n",
    "print(gelecek_yillar)"
   ]
  },
  {
   "cell_type": "code",
   "execution_count": null,
   "id": "2bd9ccad-2972-4a69-9730-ea4bce5a1ea9",
   "metadata": {},
   "outputs": [],
   "source": [
    "plt.figure(figsize=(10, 5))\n",
    "plt.plot(X, y, label=\"Gerçek\", color=\"royalblue\")\n",
    "plt.plot(gelecek_yillar[\"year\"], gelecek_yillar[\"predicted_co2\"], label=\"Tahmin\", color=\"orangered\", linestyle=\"--\")\n",
    "plt.title(\"Kuzey Amerika için CO₂ Emisyon Tahmini (2024–2030)\")\n",
    "plt.xlabel(\"Yıl\")\n",
    "plt.ylabel(\"CO₂ Emisyonu (ton)\")\n",
    "plt.legend()\n",
    "plt.grid(True)\n",
    "plt.tight_layout()\n",
    "plt.savefig(\"k_amerika_tahmin_co2_cizgi.png\", dpi=300)\n",
    "plt.show()"
   ]
  },
  {
   "cell_type": "code",
   "execution_count": null,
   "id": "a9fdfca6-5c33-4663-8b63-47ad8b326d6b",
   "metadata": {},
   "outputs": [],
   "source": [
    "from sklearn.linear_model import LinearRegression\n",
    "\n",
    "güney_amerika = df[df[\"region\"] == \"South America\"].copy()\n",
    "\n",
    "güney_amerika = güney_amerika.dropna()\n",
    "\n",
    "X = güney_amerika[[\"year\"]] \n",
    "y = güney_amerika[\"co2\"] \n",
    "\n",
    "model = LinearRegression()\n",
    "model.fit(X, y)\n",
    "\n",
    "gelecek_yillar = pd.DataFrame({\"year\": np.arange(2024, 2031)})\n",
    "gelecek_tahmini = model.predict(gelecek_yillar)\n",
    "\n",
    "gelecek_yillar[\"predicted_co2\"] = gelecek_tahmini\n",
    "print(gelecek_yillar)"
   ]
  },
  {
   "cell_type": "code",
   "execution_count": null,
   "id": "bb6c04b7-f562-4fe8-b024-823e785993fe",
   "metadata": {},
   "outputs": [],
   "source": [
    "plt.figure(figsize=(10, 5))\n",
    "plt.plot(X, y, label=\"Gerçek\", color=\"y\")\n",
    "plt.plot(gelecek_yillar[\"year\"], gelecek_yillar[\"predicted_co2\"], label=\"Tahmin\", color=\"red\", linestyle=\"--\")\n",
    "plt.title(\"Güney Amerika için CO₂ Emisyon Tahmini (2024–2030)\")\n",
    "plt.xlabel(\"Yıl\")\n",
    "plt.ylabel(\"CO₂ Emisyonu (ton)\")\n",
    "plt.legend()\n",
    "plt.grid(True)\n",
    "plt.tight_layout()\n",
    "plt.savefig(\"g_amerika_tahmin_co2_cizgi.png\", dpi=300)\n",
    "plt.show()"
   ]
  },
  {
   "cell_type": "code",
   "execution_count": null,
   "id": "215e0443-1ed7-47b0-ab89-4ea4539343a7",
   "metadata": {},
   "outputs": [],
   "source": [
    "from sklearn.linear_model import LinearRegression\n",
    "\n",
    "okyanusya = df[df[\"region\"] == \"Oceania\"].copy()\n",
    "\n",
    "okyanusya = okyanusya.dropna()\n",
    "\n",
    "X = okyanusya[[\"year\"]] \n",
    "y = okyanusya[\"co2\"] \n",
    "\n",
    "model = LinearRegression()\n",
    "model.fit(X, y)\n",
    "\n",
    "gelecek_yillar = pd.DataFrame({\"year\": np.arange(2024, 2031)})\n",
    "gelecek_tahmini = model.predict(gelecek_yillar)\n",
    "\n",
    "gelecek_yillar[\"predicted_co2\"] = gelecek_tahmini\n",
    "print(gelecek_yillar)"
   ]
  },
  {
   "cell_type": "code",
   "execution_count": null,
   "id": "ed8fcd01-b504-4e27-8e33-5ea10749de2d",
   "metadata": {},
   "outputs": [],
   "source": [
    "plt.figure(figsize=(10, 5))\n",
    "plt.plot(X, y, label=\"Gerçek\", color=\"cyan\")\n",
    "plt.plot(gelecek_yillar[\"year\"], gelecek_yillar[\"predicted_co2\"], label=\"Tahmin\", color=\"maroon\", linestyle=\"--\")\n",
    "plt.title(\"Okyanusya için CO₂ Emisyon Tahmini (2024–2030)\")\n",
    "plt.xlabel(\"Yıl\")\n",
    "plt.ylabel(\"CO₂ Emisyonu (ton)\")\n",
    "plt.legend()\n",
    "plt.grid(True)\n",
    "plt.tight_layout()\n",
    "plt.savefig(\"okyanusya_tahmin_co2_cizgi.png\", dpi=300)\n",
    "plt.show()"
   ]
  },
  {
   "cell_type": "markdown",
   "id": "81da8270-8add-4d30-add7-45df79b96088",
   "metadata": {},
   "source": [
    "#### Dünya Genelinde CO₂ Emisyon Tahmin Modellemesi"
   ]
  },
  {
   "cell_type": "code",
   "execution_count": null,
   "id": "72fd8a6f-1463-40c5-ba28-0e60c94fc28d",
   "metadata": {},
   "outputs": [],
   "source": [
    "# 'World' bölgesi yeterli veri sunmadığı için tahmin modellemesinde gerçeklikten uzak sonuçlar verdi.\n",
    "# Bu yüzden dünya genelinde tahmin modellemesini 'World' bölgesini dışarda bırakıp bütün bölgeleri hesap ederek yaptım.\n",
    "\n",
    "bolgeler = df[df[\"region\"] != \"World\"]\n",
    "\n",
    "dunya_df = bolgeler.groupby(\"year\")[\"co2\"].sum().reset_index()"
   ]
  },
  {
   "cell_type": "code",
   "execution_count": null,
   "id": "94182589-425e-440b-9e60-90d69e9181e7",
   "metadata": {},
   "outputs": [],
   "source": [
    "from sklearn.linear_model import LinearRegression\n",
    "\n",
    "X = dunya_df[[\"year\"]]\n",
    "y = dunya_df[\"co2\"]\n",
    "\n",
    "model = LinearRegression()\n",
    "model.fit(X, y)\n",
    "\n",
    "gelecek_yillar = pd.DataFrame({\"year\": np.arange(2024, 2031)})\n",
    "gelecek_yillar[\"predicted_co2\"] = model.predict(gelecek_yillar)\n",
    "\n",
    "print(gelecek_yillar)"
   ]
  },
  {
   "cell_type": "code",
   "execution_count": null,
   "id": "4980106b-930b-41b4-adff-f6abf93ed94d",
   "metadata": {},
   "outputs": [],
   "source": [
    "plt.figure(figsize=(10, 5))\n",
    "plt.plot(X, y, label=\"Gerçek\", color=\"green\")\n",
    "plt.plot(gelecek_yillar[\"year\"], gelecek_yillar[\"predicted_co2\"], label=\"Tahmin\", color=\"magenta\", linestyle=\"--\")\n",
    "\n",
    "plt.title(\"Dünya Genelinde CO₂ Emisyon Tahmini (2024-2030)\")\n",
    "plt.xlabel(\"Yıl\")\n",
    "plt.ylabel(\"Toplam CO₂ Emisyonu (ton)\")\n",
    "plt.legend()\n",
    "plt.grid(True)\n",
    "plt.tight_layout()\n",
    "plt.savefig(\"dunya_tahmin_co2_cizgi.png\", dpi=300)\n",
    "plt.show()"
   ]
  },
  {
   "cell_type": "markdown",
   "id": "16567ca3-39cb-485a-b595-34fda033fbe1",
   "metadata": {},
   "source": [
    "#### Türkiye CO₂ Emisyon Tahmin Modellemesi"
   ]
  },
  {
   "cell_type": "code",
   "execution_count": null,
   "id": "0f99811d-abf1-4252-81c2-299267a9e0f0",
   "metadata": {},
   "outputs": [],
   "source": [
    "turkiye = df[df[\"region\"] == \"Turkey\"].copy()\n",
    "turkiye = turkiye.dropna(subset=[\"co2\"]) \n",
    "\n",
    "X = turkiye[[\"year\"]]\n",
    "y = turkiye[\"co2\"]"
   ]
  },
  {
   "cell_type": "code",
   "execution_count": null,
   "id": "0e72681d-788e-4524-ba37-d42f0851083e",
   "metadata": {},
   "outputs": [],
   "source": [
    "from sklearn.linear_model import LinearRegression\n",
    "\n",
    "model = LinearRegression()\n",
    "model.fit(X, y)\n",
    "\n",
    "gelecek_yillar = pd.DataFrame({\"year\": np.arange(2024, 2031)})\n",
    "gelecek_yillar[\"predicted_co2\"] = model.predict(gelecek_yillar)\n",
    "\n",
    "print(gelecek_yillar)"
   ]
  },
  {
   "cell_type": "code",
   "execution_count": null,
   "id": "68853777-cadd-448d-aa13-9d125e14a1e1",
   "metadata": {},
   "outputs": [],
   "source": [
    "plt.figure(figsize=(10, 5))\n",
    "plt.plot(turkiye[\"year\"], turkiye[\"co2\"], label=\"Gerçek\", color=\"red\")\n",
    "plt.plot(gelecek_yillar[\"year\"], gelecek_yillar[\"predicted_co2\"], label=\"Tahmin\", color=\"g\", linestyle=\"--\")\n",
    "\n",
    "plt.title(\"Türkiye'nin CO₂ Emisyon Tahmini (2024–2030)\")\n",
    "plt.xlabel(\"Yıl\")\n",
    "plt.ylabel(\"CO₂ Emisyonu (ton)\")\n",
    "plt.legend()\n",
    "plt.grid(True)\n",
    "plt.tight_layout()\n",
    "plt.savefig(\"turkiye_tahmin_co2_cizgi.png\", dpi=300)\n",
    "plt.show()"
   ]
  },
  {
   "cell_type": "markdown",
   "id": "8b4e1723-28c0-45b9-941d-27a63f497873",
   "metadata": {},
   "source": [
    "#### Tahminlerin Özeti ve Kıyaslaması"
   ]
  },
  {
   "cell_type": "code",
   "execution_count": null,
   "id": "c56c59c6-9061-473b-8f97-dfb2cdf2494e",
   "metadata": {},
   "outputs": [],
   "source": [
    "veriler = {\n",
    "    \"year\": list(range(2024, 2031)),\n",
    "    \"Asia\": [7.787070e+09, 7.827734e+09, 7.868398e+09, 7.909063e+09, 7.949727e+09, 7.990392e+09, 8.031056e+09],\n",
    "    \"Europe\": [5.794722e+09, 5.822314e+09, 5.849907e+09, 5.877500e+09, 5.905092e+09, 5.932685e+09, 5.960278e+09],\n",
    "    \"North America\": [5.979029e+09, 6.011544e+09, 6.044060e+09, 6.076576e+09, 6.109091e+09, 6.141607e+09, 6.174123e+09],\n",
    "    \"South America\": [7.939248e+08, 7.998523e+08, 8.057797e+08, 8.117072e+08, 8.176347e+08, 8.235621e+08, 8.294896e+08],\n",
    "    \"Africa\": [1.095833e+09, 1.106048e+09, 1.116263e+09, 1.126478e+09, 1.136693e+09, 1.146908e+09, 1.157122e+09],\n",
    "    \"Oceania\": [2.673550e+08, 2.687114e+08, 2.700677e+08, 2.714240e+08, 2.727804e+08, 2.741367e+08, 2.754931e+08],\n",
    "    \"World\": [1.191128e+11, 1.197057e+11, 1.202986e+11, 1.208915e+11, 1.214843e+11, 1.220772e+11, 1.226701e+11],\n",
    "    \"Turkey\": [2.492596e+08, 2.514146e+08, 2.535697e+08, 2.557247e+08, 2.578797e+08, 2.600347e+08, 2.621897e+08]\n",
    "}\n",
    "\n",
    "df_tahminler = pd.DataFrame(veriler)\n",
    "df_tahminler.head()"
   ]
  },
  {
   "cell_type": "code",
   "execution_count": null,
   "id": "bce6d44f-fac5-40ba-a28c-52c1e0a6f08a",
   "metadata": {},
   "outputs": [],
   "source": [
    "years = df_tahminler[\"year\"]\n",
    "regions = df_tahminler.columns[1:]\n",
    "n_years = len(years)\n",
    "n_regions = len(regions)\n",
    "\n",
    "bar_width = 0.1\n",
    "x = np.arange(n_years)\n",
    "\n",
    "plt.figure(figsize=(16, 8))\n",
    "\n",
    "for i, region in enumerate(regions):\n",
    "    plt.bar(x + i*bar_width, df_tahminler[region], width=bar_width, label=region)\n",
    "\n",
    "plt.xticks(x + bar_width*(n_regions-1)/2, years)\n",
    "plt.xlabel(\"Yıl\")\n",
    "plt.ylabel(\"Tahmini CO₂ Emisyonu (ton)\")\n",
    "plt.title(\"2024-2030 CO₂ Emisyon Tahminleri - Kıtalar ve Türkiye Çubuk Grafiği\")\n",
    "plt.legend()\n",
    "plt.tight_layout()\n",
    "plt.savefig(\"kitalar_ve_turkiye_tahmin_co2_cubuk.png\", dpi=300)\n",
    "plt.show()"
   ]
  },
  {
   "cell_type": "code",
   "execution_count": null,
   "id": "a97263b7-cfa5-4511-ad78-3451525f9d0f",
   "metadata": {},
   "outputs": [],
   "source": [
    "plt.figure(figsize=(14, 8))\n",
    "plt.stackplot(df_tahminler[\"year\"],\n",
    "              df_tahminler[\"Asia\"],\n",
    "              df_tahminler[\"Europe\"],\n",
    "              df_tahminler[\"North America\"],\n",
    "              df_tahminler[\"South America\"],\n",
    "              df_tahminler[\"Africa\"],\n",
    "              df_tahminler[\"Oceania\"],\n",
    "              df_tahminler[\"Turkey\"],\n",
    "              labels=[\"Asia\", \"Europe\", \"North America\", \"South America\", \"Africa\", \"Oceania\", \"Turkey\"],\n",
    "              colors=plt.cm.tab20.colors)\n",
    "\n",
    "plt.title(\"2024-2030 CO₂ Emisyon Tahminleri - Kıtalar ve Türkiye Alan Grafiği\")\n",
    "plt.xlabel(\"Yıl\")\n",
    "plt.ylabel(\"Tahmini CO₂ Emisyonu (ton)\")\n",
    "plt.legend(loc=\"upper left\")\n",
    "plt.tight_layout()\n",
    "plt.savefig(\"kitalar_ve_turkiye_tahmin_co2_alan.png\", dpi=300)\n",
    "plt.show()"
   ]
  }
 ],
 "metadata": {
  "kernelspec": {
   "display_name": "Python [conda env:base] *",
   "language": "python",
   "name": "conda-base-py"
  },
  "language_info": {
   "codemirror_mode": {
    "name": "ipython",
    "version": 3
   },
   "file_extension": ".py",
   "mimetype": "text/x-python",
   "name": "python",
   "nbconvert_exporter": "python",
   "pygments_lexer": "ipython3",
   "version": "3.12.7"
  }
 },
 "nbformat": 4,
 "nbformat_minor": 5
}
